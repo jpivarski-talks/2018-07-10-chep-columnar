{
 "cells": [
  {
   "cell_type": "code",
   "execution_count": 5,
   "metadata": {},
   "outputs": [
    {
     "name": "stdout",
     "output_type": "stream",
     "text": [
      "Welcome to JupyROOT 6.15/01\n"
     ]
    }
   ],
   "source": [
    "import sys\n",
    "import cPickle\n",
    "import math\n",
    "import json\n",
    "\n",
    "import uproot\n",
    "import numpy\n",
    "import root_numpy\n",
    "from awkward import *"
   ]
  },
  {
   "cell_type": "code",
   "execution_count": 9,
   "metadata": {},
   "outputs": [
    {
     "name": "stdout",
     "output_type": "stream",
     "text": [
      "1 loop, best of 3: 770 ms per loop\n"
     ]
    }
   ],
   "source": [
    "%%timeit\n",
    "q = root_numpy.root2array(\"../NanoAOD-DYJetsToLL.root\", \"tree\", [\"Muon_pt\", \"Muon_eta\", \"Muon_phi\"])"
   ]
  },
  {
   "cell_type": "code",
   "execution_count": 2,
   "metadata": {},
   "outputs": [],
   "source": [
    "tree = uproot.open(\"../NanoAOD-DYJetsToLL.root\")[\"tree\"]"
   ]
  },
  {
   "cell_type": "code",
   "execution_count": 23,
   "metadata": {
    "collapsed": true
   },
   "outputs": [
    {
     "data": {
      "text/plain": [
       "['CaloMET_phi',\n",
       " 'CaloMET_pt',\n",
       " 'CaloMET_sumEt',\n",
       " 'GenMET_phi',\n",
       " 'GenMET_pt',\n",
       " 'MET_MetUnclustEnUpDeltaX',\n",
       " 'MET_MetUnclustEnUpDeltaY',\n",
       " 'MET_covXX',\n",
       " 'MET_covXY',\n",
       " 'MET_covYY',\n",
       " 'MET_fiducialGenPhi',\n",
       " 'MET_fiducialGenPt',\n",
       " 'MET_phi',\n",
       " 'MET_pt',\n",
       " 'MET_significance',\n",
       " 'MET_sumEt',\n",
       " 'PuppiMET_phi',\n",
       " 'PuppiMET_pt',\n",
       " 'PuppiMET_sumEt',\n",
       " 'RawMET_phi',\n",
       " 'RawMET_pt',\n",
       " 'RawMET_sumEt',\n",
       " 'TkMET_phi',\n",
       " 'TkMET_pt',\n",
       " 'TkMET_sumEt',\n",
       " 'HLT_CaloMHTNoPU90_PFMET90_PFMHT90_IDTight',\n",
       " 'HLT_CaloMHTNoPU90_PFMET90_PFMHT90_IDTight_BTagCSV_p067',\n",
       " 'HLT_DiPFJet40_DEta3p5_MJJ600_PFMETNoMu140',\n",
       " 'HLT_DiPFJet40_DEta3p5_MJJ600_PFMETNoMu80',\n",
       " 'HLT_DoubleMu3_PFMET50',\n",
       " 'HLT_Ele15_IsoVVVL_PFHT350_PFMET50',\n",
       " 'HLT_Ele15_IsoVVVL_PFHT400_PFMET50',\n",
       " 'HLT_HT250_CaloMET70',\n",
       " 'HLT_IsoMu16_eta2p1_MET30',\n",
       " 'HLT_IsoMu16_eta2p1_MET30_LooseIsoPFTau50_Trk30_eta2p1',\n",
       " 'HLT_LooseIsoPFTau50_Trk30_eta2p1_MET110',\n",
       " 'HLT_LooseIsoPFTau50_Trk30_eta2p1_MET120',\n",
       " 'HLT_LooseIsoPFTau50_Trk30_eta2p1_MET80',\n",
       " 'HLT_LooseIsoPFTau50_Trk30_eta2p1_MET90',\n",
       " 'HLT_MET100',\n",
       " 'HLT_MET150',\n",
       " 'HLT_MET200',\n",
       " 'HLT_MET250',\n",
       " 'HLT_MET300',\n",
       " 'HLT_MET600',\n",
       " 'HLT_MET60_IsoTrk35_Loose',\n",
       " 'HLT_MET700',\n",
       " 'HLT_MET75_IsoTrk50',\n",
       " 'HLT_MET90_IsoTrk50',\n",
       " 'HLT_MonoCentralPFJet80_PFMETNoMu100_PFMHTNoMu100_IDTight',\n",
       " 'HLT_MonoCentralPFJet80_PFMETNoMu110_PFMHTNoMu110_IDTight',\n",
       " 'HLT_MonoCentralPFJet80_PFMETNoMu120_PFMHTNoMu120_IDTight',\n",
       " 'HLT_MonoCentralPFJet80_PFMETNoMu90_PFMHTNoMu90_IDTight',\n",
       " 'HLT_Mu10_TrkIsoVVL_DiPFJet40_DEta3p5_MJJ750_HTT350_PFMETNoMu60',\n",
       " 'HLT_Mu14er_PFMET100',\n",
       " 'HLT_Mu15_IsoVVVL_PFHT350_PFMET50',\n",
       " 'HLT_Mu15_IsoVVVL_PFHT400_PFMET50',\n",
       " 'HLT_Mu16_eta2p1_MET30',\n",
       " 'HLT_Mu3er_PFHT140_PFMET125',\n",
       " 'HLT_Mu6_PFHT200_PFMET100',\n",
       " 'HLT_Mu6_PFHT200_PFMET80_BTagCSV_p067',\n",
       " 'HLT_Mu8_TrkIsoVVL_DiPFJet40_DEta3p5_MJJ750_HTT300_PFMETNoMu60',\n",
       " 'HLT_PFHT300_PFMET100',\n",
       " 'HLT_PFHT300_PFMET110',\n",
       " 'HLT_PFMET100_PFMHT100_IDTight',\n",
       " 'HLT_PFMET100_PFMHT100_IDTight_BeamHaloCleaned',\n",
       " 'HLT_PFMET110_PFMHT110_IDTight',\n",
       " 'HLT_PFMET120_BTagCSV_p067',\n",
       " 'HLT_PFMET120_Mu5',\n",
       " 'HLT_PFMET120_PFMHT120_IDTight',\n",
       " 'HLT_PFMET170_BeamHaloCleaned',\n",
       " 'HLT_PFMET170_HBHECleaned',\n",
       " 'HLT_PFMET170_HBHE_BeamHaloCleaned',\n",
       " 'HLT_PFMET170_JetIdCleaned',\n",
       " 'HLT_PFMET170_NoiseCleaned',\n",
       " 'HLT_PFMET170_NotCleaned',\n",
       " 'HLT_PFMET300',\n",
       " 'HLT_PFMET400',\n",
       " 'HLT_PFMET500',\n",
       " 'HLT_PFMET600',\n",
       " 'HLT_PFMET90_PFMHT90_IDTight',\n",
       " 'HLT_PFMETNoMu100_PFMHTNoMu100_IDTight',\n",
       " 'HLT_PFMETNoMu110_PFMHTNoMu110_IDTight',\n",
       " 'HLT_PFMETNoMu120_PFMHTNoMu120_IDTight',\n",
       " 'HLT_PFMETNoMu90_PFMHTNoMu90_IDTight',\n",
       " 'HLT_PFMETTypeOne190_HBHE_BeamHaloCleaned',\n",
       " 'HLT_Photon120_R9Id90_HE10_Iso40_EBOnly_PFMET40',\n",
       " 'HLT_Photon135_PFMET100',\n",
       " 'HLT_Photon22_R9Id90_HE10_Iso40_EBOnly_PFMET40',\n",
       " 'HLT_Photon36_R9Id90_HE10_Iso40_EBOnly_PFMET40',\n",
       " 'HLT_Photon50_R9Id90_HE10_Iso40_EBOnly_PFMET40',\n",
       " 'HLT_Photon75_R9Id90_HE10_Iso40_EBOnly_PFMET40',\n",
       " 'HLT_Photon90_R9Id90_HE10_Iso40_EBOnly_PFMET40',\n",
       " 'Flag_METFilters']"
      ]
     },
     "execution_count": 23,
     "metadata": {},
     "output_type": "execute_result"
    }
   ],
   "source": [
    "tree.keys(filtername=lambda x: \"MET\" in x)"
   ]
  },
  {
   "cell_type": "code",
   "execution_count": 22,
   "metadata": {},
   "outputs": [
    {
     "data": {
      "text/plain": [
       "asdtype('>u4')"
      ]
     },
     "execution_count": 22,
     "metadata": {},
     "output_type": "execute_result"
    }
   ],
   "source": [
    "tree[\"nMuon\"].interpretation"
   ]
  },
  {
   "cell_type": "code",
   "execution_count": 4,
   "metadata": {},
   "outputs": [
    {
     "name": "stdout",
     "output_type": "stream",
     "text": [
      "10 loops, best of 3: 46.9 ms per loop\n"
     ]
    }
   ],
   "source": [
    "%%timeit\n",
    "pt, eta, phi = tree.arrays([\"Muon_pt\", \"Muon_eta\", \"Muon_phi\"], outputtype=tuple)"
   ]
  },
  {
   "cell_type": "code",
   "execution_count": 3,
   "metadata": {},
   "outputs": [],
   "source": [
    "pt, eta, phi = tree.arrays([\"Muon_pt\", \"Muon_eta\", \"Muon_phi\"], outputtype=tuple)"
   ]
  },
  {
   "cell_type": "code",
   "execution_count": 4,
   "metadata": {},
   "outputs": [
    {
     "data": {
      "text/plain": [
       "(dtype('float32'), dtype('float32'), dtype('float32'))"
      ]
     },
     "execution_count": 4,
     "metadata": {},
     "output_type": "execute_result"
    }
   ],
   "source": [
    "pt.content.dtype, eta.content.dtype, phi.content.dtype"
   ]
  },
  {
   "cell_type": "code",
   "execution_count": 5,
   "metadata": {},
   "outputs": [
    {
     "data": {
      "text/plain": [
       "(701716, 701716, 701716)"
      ]
     },
     "execution_count": 5,
     "metadata": {},
     "output_type": "execute_result"
    }
   ],
   "source": [
    "len(pt), len(eta), len(phi)"
   ]
  },
  {
   "cell_type": "code",
   "execution_count": 6,
   "metadata": {},
   "outputs": [
    {
     "data": {
      "text/plain": [
       "(552056, 552056, 552056)"
      ]
     },
     "execution_count": 6,
     "metadata": {},
     "output_type": "execute_result"
    }
   ],
   "source": [
    "len(pt.content), len(eta.content), len(phi.content)"
   ]
  },
  {
   "cell_type": "code",
   "execution_count": 24,
   "metadata": {},
   "outputs": [],
   "source": [
    "events = JaggedArray.fromoffsets(pt.offsets, Table(len(pt.content), pt=pt.content, eta=eta.content, phi=phi.content))"
   ]
  },
  {
   "cell_type": "code",
   "execution_count": 25,
   "metadata": {},
   "outputs": [
    {
     "data": {
      "text/plain": [
       "12239527"
      ]
     },
     "execution_count": 25,
     "metadata": {},
     "output_type": "execute_result"
    }
   ],
   "source": [
    "((sys.getsizeof(events._content._content[\"pt\"]) + events._content._content[\"pt\"].nbytes +\n",
    "  sys.getsizeof(events._content._content[\"eta\"]) + events._content._content[\"eta\"].nbytes +\n",
    "  sys.getsizeof(events._content._content[\"phi\"]) + events._content._content[\"phi\"].nbytes) +\n",
    " sys.getsizeof(\"pt\") + sys.getsizeof(\"eta\") + sys.getsizeof(\"phi\") + sys.getsizeof(events._content._content) +\n",
    " sys.getsizeof(events._content._length) + sys.getsizeof(events._content._step) + sys.getsizeof(events._content._start) +\n",
    " sys.getsizeof(events._content) + sys.getsizeof(events._writeable) +\n",
    " sys.getsizeof(events._starts) + sys.getsizeof(events._stops) + events.offsets.nbytes + sys.getsizeof(events))"
   ]
  },
  {
   "cell_type": "code",
   "execution_count": 26,
   "metadata": {},
   "outputs": [
    {
     "data": {
      "text/plain": [
       "23465880"
      ]
     },
     "execution_count": 26,
     "metadata": {},
     "output_type": "execute_result"
    }
   ],
   "source": [
    "(4*len(pt.content) + 4*len(eta.content) + 4*len(phi.content) + 24*len(pt) + 24)"
   ]
  },
  {
   "cell_type": "code",
   "execution_count": 27,
   "metadata": {},
   "outputs": [
    {
     "name": "stdout",
     "output_type": "stream",
     "text": [
      "10 loops, best of 3: 30.1 ms per loop\n"
     ]
    }
   ],
   "source": [
    "%%timeit\n",
    "events.content[\"pz\"] = (events[\"pt\"] * numpy.sinh(events[\"eta\"])).content"
   ]
  },
  {
   "cell_type": "code",
   "execution_count": 28,
   "metadata": {},
   "outputs": [
    {
     "data": {
      "text/plain": [
       "[[],\n",
       " [{'eta': -1.005615234375,\n",
       "   'phi': -0.5814208984375,\n",
       "   'pt': 129.7563018798828,\n",
       "   'pz': -153.61647033691406},\n",
       "  {'eta': -0.7191162109375,\n",
       "   'phi': -1.5068359375,\n",
       "   'pt': 73.08880615234375,\n",
       "   'pz': -57.20792007446289}],\n",
       " [{'eta': -0.177520751953125,\n",
       "   'phi': 0.46759033203125,\n",
       "   'pt': 127.55380249023438,\n",
       "   'pz': -22.762563705444336},\n",
       "  {'eta': -0.697509765625,\n",
       "   'phi': 1.11865234375,\n",
       "   'pt': 93.02200317382812,\n",
       "   'pz': -70.2744369506836}],\n",
       " [],\n",
       " [],\n",
       " [{'eta': 1.1064453125,\n",
       "   'phi': 0.7440185546875,\n",
       "   'pt': 117.4339828491211,\n",
       "   'pz': 158.11656188964844},\n",
       "  {'eta': 2.06201171875,\n",
       "   'phi': 0.03387451171875,\n",
       "   'pt': 46.91141128540039,\n",
       "   'pz': 181.4198455810547}]]"
      ]
     },
     "execution_count": 28,
     "metadata": {},
     "output_type": "execute_result"
    }
   ],
   "source": [
    "events[:6].tolist()"
   ]
  },
  {
   "cell_type": "code",
   "execution_count": 29,
   "metadata": {},
   "outputs": [
    {
     "name": "stdout",
     "output_type": "stream",
     "text": [
      "10 loops, best of 3: 30.3 ms per loop\n"
     ]
    }
   ],
   "source": [
    "%%timeit\n",
    "pz = events[\"pt\"] * numpy.sinh(events[\"eta\"])"
   ]
  },
  {
   "cell_type": "code",
   "execution_count": 30,
   "metadata": {},
   "outputs": [
    {
     "data": {
      "text/plain": [
       "-153.61647"
      ]
     },
     "execution_count": 30,
     "metadata": {},
     "output_type": "execute_result"
    }
   ],
   "source": [
    "events[1][\"pt\"][0] * numpy.sinh(events[1][\"eta\"][0])"
   ]
  },
  {
   "cell_type": "code",
   "execution_count": 32,
   "metadata": {},
   "outputs": [
    {
     "data": {
      "text/plain": [
       "8"
      ]
     },
     "execution_count": 32,
     "metadata": {},
     "output_type": "execute_result"
    }
   ],
   "source": [
    "(pt.stops - pt.starts).max()"
   ]
  },
  {
   "cell_type": "code",
   "execution_count": 63,
   "metadata": {},
   "outputs": [],
   "source": [
    "class Muon(object):\n",
    "    __slots__ = [\"pt\", \"eta\", \"phi\"]\n",
    "    def __init__(self, pt, eta, phi):\n",
    "        self.pt, self.eta, self.phi = pt, eta, phi\n",
    "\n",
    "asdicts = []\n",
    "asobjs = []\n",
    "for event in events:\n",
    "    dictevt = []\n",
    "    objevt = []\n",
    "    for muon in event:\n",
    "        dictevt.append({\"pt\": float(muon.pt), \"eta\": float(muon.eta), \"phi\": float(muon.phi)})\n",
    "        objevt.append(Muon(float(muon.pt), float(muon.eta), float(muon.phi)))\n",
    "    asdicts.append(dictevt)\n",
    "    asobjs.append(objevt)"
   ]
  },
  {
   "cell_type": "code",
   "execution_count": 64,
   "metadata": {},
   "outputs": [
    {
     "data": {
      "text/plain": [
       "(701716, 701716)"
      ]
     },
     "execution_count": 64,
     "metadata": {},
     "output_type": "execute_result"
    }
   ],
   "source": [
    "len(asdicts), len(asobjs)"
   ]
  },
  {
   "cell_type": "code",
   "execution_count": 65,
   "metadata": {},
   "outputs": [],
   "source": [
    "asdicts_serialized = cPickle.dumps(asdicts, protocol=2)\n",
    "asobjs_serialized = cPickle.dumps(asobjs, protocol=2)"
   ]
  },
  {
   "cell_type": "code",
   "execution_count": 66,
   "metadata": {},
   "outputs": [
    {
     "data": {
      "text/plain": [
       "(str, str)"
      ]
     },
     "execution_count": 66,
     "metadata": {},
     "output_type": "execute_result"
    }
   ],
   "source": [
    "type(asdicts_serialized), type(asobjs_serialized)"
   ]
  },
  {
   "cell_type": "code",
   "execution_count": 67,
   "metadata": {},
   "outputs": [
    {
     "data": {
      "text/plain": [
       "(27373409, 33998099)"
      ]
     },
     "execution_count": 67,
     "metadata": {},
     "output_type": "execute_result"
    }
   ],
   "source": [
    "len(asdicts_serialized), len(asobjs_serialized)"
   ]
  },
  {
   "cell_type": "code",
   "execution_count": 77,
   "metadata": {},
   "outputs": [
    {
     "data": {
      "text/plain": [
       "(str,\n",
       " 38992393,\n",
       " '[[],[{\"phi\":-0.5814208984375,\"eta\":-1.005615234375,\"pt\":129.7563018798828},{\"phi\":-1.5068359375,\"eta')"
      ]
     },
     "execution_count": 77,
     "metadata": {},
     "output_type": "execute_result"
    }
   ],
   "source": [
    "asdicts_json = json.dumps(asdicts, separators=(',', ':'))\n",
    "type(asdicts_json), len(asdicts_json), asdicts_json[:100]"
   ]
  },
  {
   "cell_type": "code",
   "execution_count": 78,
   "metadata": {},
   "outputs": [
    {
     "data": {
      "text/plain": [
       "(str,\n",
       " 20122887,\n",
       " '[[],[{\"phi\":-0.6,\"eta\":-1.0,\"pt\":129.8},{\"phi\":-1.5,\"eta\":-0.7,\"pt\":73.1}],[{\"phi\":0.5,\"eta\":-0.2,\"p')"
      ]
     },
     "execution_count": 78,
     "metadata": {},
     "output_type": "execute_result"
    }
   ],
   "source": [
    "asdicts_json = json.dumps(json.loads(json.dumps(asdicts), parse_float=lambda x: round(float(x), 1)), separators=(',', ':'))\n",
    "type(asdicts_json), len(asdicts_json), asdicts_json[:100]"
   ]
  },
  {
   "cell_type": "code",
   "execution_count": 45,
   "metadata": {},
   "outputs": [],
   "source": [
    "pz = numpy.empty(552056, dtype=numpy.float32)"
   ]
  },
  {
   "cell_type": "code",
   "execution_count": 52,
   "metadata": {},
   "outputs": [
    {
     "name": "stdout",
     "output_type": "stream",
     "text": [
      "1 loop, best of 3: 1.23 s per loop\n"
     ]
    }
   ],
   "source": [
    "%%timeit\n",
    "i = 0\n",
    "for event in asdicts:\n",
    "    for muon in event:\n",
    "        pz[i] = muon[\"pt\"] * math.sinh(muon[\"eta\"])\n",
    "        i += 1"
   ]
  },
  {
   "cell_type": "code",
   "execution_count": 54,
   "metadata": {},
   "outputs": [
    {
     "name": "stdout",
     "output_type": "stream",
     "text": [
      "1 loop, best of 3: 1.24 s per loop\n"
     ]
    }
   ],
   "source": [
    "%%timeit\n",
    "i = 0\n",
    "for event in asobjs:\n",
    "    for muon in event:\n",
    "        pz[i] = muon.pt * math.sinh(muon.eta)\n",
    "        i += 1"
   ]
  },
  {
   "cell_type": "code",
   "execution_count": 86,
   "metadata": {},
   "outputs": [
    {
     "data": {
      "text/plain": [
       "327099392"
      ]
     },
     "execution_count": 86,
     "metadata": {},
     "output_type": "execute_result"
    }
   ],
   "source": [
    "totbytes = sys.getsizeof(asdicts)\n",
    "for event in asdicts:\n",
    "    totbytes += sys.getsizeof(event)\n",
    "    for muon in event:\n",
    "        totbytes += sys.getsizeof(muon)\n",
    "        for n, x in muon.items():\n",
    "            totbytes += sys.getsizeof(n)\n",
    "            totbytes += sys.getsizeof(x)\n",
    "totbytes"
   ]
  },
  {
   "cell_type": "code",
   "execution_count": 100,
   "metadata": {},
   "outputs": [
    {
     "data": {
      "text/plain": [
       "146577080"
      ]
     },
     "execution_count": 100,
     "metadata": {},
     "output_type": "execute_result"
    }
   ],
   "source": [
    "totbytes = sys.getsizeof(asdicts)\n",
    "for event in asobjs:\n",
    "    totbytes += sys.getsizeof(event)\n",
    "    for muon in event:\n",
    "        totbytes += sys.getsizeof(muon)\n",
    "        totbytes += sys.getsizeof(muon.pt)\n",
    "        totbytes += sys.getsizeof(muon.eta)\n",
    "        totbytes += sys.getsizeof(muon.phi)\n",
    "totbytes"
   ]
  },
  {
   "cell_type": "code",
   "execution_count": 101,
   "metadata": {},
   "outputs": [],
   "source": [
    "import numba"
   ]
  },
  {
   "cell_type": "code",
   "execution_count": 102,
   "metadata": {},
   "outputs": [],
   "source": [
    "@numba.njit\n",
    "def doit(pz, starts, stops, pt, eta):\n",
    "    k = 0\n",
    "    for i in range(len(starts)):\n",
    "        for j in range(starts[i], stops[i]):\n",
    "            pz[k] = pt[j] * math.sinh(eta[j])\n",
    "            k += 1"
   ]
  },
  {
   "cell_type": "code",
   "execution_count": 104,
   "metadata": {},
   "outputs": [
    {
     "name": "stdout",
     "output_type": "stream",
     "text": [
      "10 loops, best of 3: 22.6 ms per loop\n"
     ]
    }
   ],
   "source": [
    "%%timeit\n",
    "doit(pz, pt.starts, pt.stops, pt.content, eta.content)"
   ]
  },
  {
   "cell_type": "code",
   "execution_count": null,
   "metadata": {},
   "outputs": [],
   "source": []
  }
 ],
 "metadata": {
  "kernelspec": {
   "display_name": "Python 2",
   "language": "python",
   "name": "python2"
  },
  "language_info": {
   "codemirror_mode": {
    "name": "ipython",
    "version": 2
   },
   "file_extension": ".py",
   "mimetype": "text/x-python",
   "name": "python",
   "nbconvert_exporter": "python",
   "pygments_lexer": "ipython2",
   "version": "2.7.12"
  }
 },
 "nbformat": 4,
 "nbformat_minor": 2
}
