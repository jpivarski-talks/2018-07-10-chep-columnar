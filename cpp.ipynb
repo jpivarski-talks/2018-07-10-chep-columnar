{
 "cells": [
  {
   "cell_type": "code",
   "execution_count": 1,
   "metadata": {},
   "outputs": [
    {
     "name": "stdout",
     "output_type": "stream",
     "text": [
      "(TFile *) @0x7f53f5352458\n"
     ]
    }
   ],
   "source": [
    "auto file = TFile::Open(\"../NanoAOD-DYJetsToLL.root\")"
   ]
  },
  {
   "cell_type": "code",
   "execution_count": 2,
   "metadata": {},
   "outputs": [],
   "source": [
    "TTree* tree;\n",
    "file->GetObject(\"tree\", tree);\n",
    "tree->SetBranchStatus(\"*\", 0);\n",
    "tree->SetBranchStatus(\"nMuon\", 1);\n",
    "tree->SetBranchStatus(\"Muon_pt\", 1);\n",
    "tree->SetBranchStatus(\"Muon_eta\", 1);"
   ]
  },
  {
   "cell_type": "code",
   "execution_count": 3,
   "metadata": {},
   "outputs": [],
   "source": [
    "#include <ctime>\n",
    "#include <sys/time.h>"
   ]
  },
  {
   "cell_type": "code",
   "execution_count": 4,
   "metadata": {},
   "outputs": [],
   "source": [
    "struct timeval startTime, endTime;"
   ]
  },
  {
   "cell_type": "code",
   "execution_count": 5,
   "metadata": {},
   "outputs": [],
   "source": [
    "double diff(struct timeval endTime, struct timeval startTime) {\n",
    "  return (1000L * 1000L * (endTime.tv_sec - startTime.tv_sec) + (endTime.tv_usec - startTime.tv_usec)) / 1000.0 / 1000.0;\n",
    "}"
   ]
  },
  {
   "cell_type": "code",
   "execution_count": 6,
   "metadata": {},
   "outputs": [],
   "source": [
    "float pz[552056];"
   ]
  },
  {
   "cell_type": "code",
   "execution_count": 7,
   "metadata": {},
   "outputs": [],
   "source": [
    "ROOT::RDataFrame d(\"tree\", file);"
   ]
  },
  {
   "cell_type": "code",
   "execution_count": 8,
   "metadata": {},
   "outputs": [
    {
     "name": "stdout",
     "output_type": "stream",
     "text": [
      "(double) 0.66133500\n"
     ]
    }
   ],
   "source": [
    "gettimeofday(&startTime, 0);\n",
    "int k6 = 0;\n",
    "d.Foreach([&k6](ROOT::VecOps::RVec<float> Muon_pt, ROOT::VecOps::RVec<float> Muon_eta) {\n",
    "    for (int i = 0;  i < Muon_pt.size();  i++) {\n",
    "        pz[k6]= Muon_pt[i] * sinh(Muon_eta[i]);\n",
    "        k6++;\n",
    "    }\n",
    "}, {\"Muon_pt\", \"Muon_eta\"});\n",
    "gettimeofday(&endTime, 0);\n",
    "diff(endTime, startTime)"
   ]
  },
  {
   "cell_type": "markdown",
   "metadata": {},
   "source": [
    "0.6396, 0.5379, 0.528, 0.609, 0.546 sec"
   ]
  },
  {
   "cell_type": "code",
   "execution_count": 9,
   "metadata": {},
   "outputs": [
    {
     "name": "stdout",
     "output_type": "stream",
     "text": [
      "(float) -153.616f\n"
     ]
    }
   ],
   "source": [
    "pz[0]"
   ]
  },
  {
   "cell_type": "code",
   "execution_count": 10,
   "metadata": {},
   "outputs": [],
   "source": [
    "void doit2(float* pz, TTreeReader &reader, TTreeReaderArray<float> &pt, TTreeReaderArray<float> &eta) {\n",
    "    int k = 0;\n",
    "    while (reader.Next()) {\n",
    "        for (int i = 0;  i < pt.GetSize();  i++) {\n",
    "            pz[k] = pt[i] * sinh(eta[i]);\n",
    "            k++;\n",
    "        }\n",
    "    }\n",
    "}"
   ]
  },
  {
   "cell_type": "code",
   "execution_count": 13,
   "metadata": {},
   "outputs": [
    {
     "name": "stdout",
     "output_type": "stream",
     "text": [
      "(double) 0.20040700\n"
     ]
    }
   ],
   "source": [
    "TTreeReader reader3(\"tree\", file);\n",
    "TTreeReaderArray<float> pt3(reader3, \"Muon_pt\");\n",
    "TTreeReaderArray<float> eta3(reader3, \"Muon_eta\");\n",
    "\n",
    "gettimeofday(&startTime, 0);\n",
    "doit2(pz, reader3, pt3, eta3);\n",
    "gettimeofday(&endTime, 0);\n",
    "diff(endTime, startTime)"
   ]
  },
  {
   "cell_type": "markdown",
   "metadata": {},
   "source": [
    "0.164 the first time, 0.175 the second, then 0.200 sec"
   ]
  },
  {
   "cell_type": "code",
   "execution_count": 7,
   "metadata": {},
   "outputs": [],
   "source": [
    "UInt_t nMuon;\n",
    "float pts[10];\n",
    "float etas[10];\n",
    "TBranch* nbranch = tree->GetBranch(\"nMuon\");\n",
    "TBranch* ptbranch = tree->GetBranch(\"Muon_pt\");\n",
    "TBranch* etabranch = tree->GetBranch(\"Muon_eta\");"
   ]
  },
  {
   "cell_type": "code",
   "execution_count": 8,
   "metadata": {},
   "outputs": [],
   "source": [
    "tree->SetBranchAddress(\"nMuon\", &nMuon);\n",
    "tree->SetBranchAddress(\"Muon_pt\", pts);\n",
    "tree->SetBranchAddress(\"Muon_eta\", etas);"
   ]
  },
  {
   "cell_type": "code",
   "execution_count": 9,
   "metadata": {},
   "outputs": [],
   "source": [
    "void doit3(float* pz) {\n",
    "    int k = 0;\n",
    "    for (int i = 0;  i < 701716;  i++) {\n",
    "        nbranch->GetEntry(i);\n",
    "        ptbranch->GetEntry(i);\n",
    "        etabranch->GetEntry(i);\n",
    "        for (int j = 0;  j < nMuon;  j++) {\n",
    "            pz[k] = pts[j] * sinh(etas[j]);\n",
    "            k++;\n",
    "        }\n",
    "    }\n",
    "}"
   ]
  },
  {
   "cell_type": "code",
   "execution_count": 13,
   "metadata": {},
   "outputs": [
    {
     "name": "stdout",
     "output_type": "stream",
     "text": [
      "(double) 0.14229700\n"
     ]
    }
   ],
   "source": [
    "gettimeofday(&startTime, 0);\n",
    "doit3(pz);\n",
    "gettimeofday(&endTime, 0);\n",
    "diff(endTime, startTime)"
   ]
  },
  {
   "cell_type": "markdown",
   "metadata": {},
   "source": [
    "0.131 sec, 0.142, 0.146, 0.142..."
   ]
  },
  {
   "cell_type": "code",
   "execution_count": 14,
   "metadata": {},
   "outputs": [],
   "source": [
    "struct Muon {\n",
    "    float pt;\n",
    "    float eta;\n",
    "    float phi;\n",
    "};\n",
    "\n",
    "struct Event {\n",
    "    std::vector<Muon> muons;\n",
    "};"
   ]
  },
  {
   "cell_type": "code",
   "execution_count": 15,
   "metadata": {},
   "outputs": [],
   "source": [
    "std::vector<Event> events;"
   ]
  },
  {
   "cell_type": "code",
   "execution_count": 17,
   "metadata": {},
   "outputs": [],
   "source": [
    "TTreeReader reader5(\"tree\", file);\n",
    "TTreeReaderArray<float> pt5(reader5, \"Muon_pt\");\n",
    "TTreeReaderArray<float> eta5(reader5, \"Muon_eta\");\n",
    "TTreeReaderArray<float> phi5(reader5, \"Muon_phi\");\n",
    "\n",
    "while (reader5.Next()) {\n",
    "    std::vector<Muon> muons;\n",
    "    for (int i = 0;  i < pt5.GetSize();  i++) {\n",
    "        Muon muon;\n",
    "        muon.pt = pt5[i];\n",
    "        muon.eta = eta5[i];\n",
    "        muon.phi = phi5[i];\n",
    "        muons.push_back(muon);\n",
    "    }\n",
    "    Event event;\n",
    "    event.muons = muons;\n",
    "    events.push_back(event);\n",
    "}"
   ]
  },
  {
   "cell_type": "code",
   "execution_count": 18,
   "metadata": {},
   "outputs": [
    {
     "name": "stdout",
     "output_type": "stream",
     "text": [
      "(unsigned long) 701717\n"
     ]
    }
   ],
   "source": [
    "events.size()"
   ]
  },
  {
   "cell_type": "code",
   "execution_count": 19,
   "metadata": {},
   "outputs": [],
   "source": [
    "void doit3(float* pz) {\n",
    "    int k = 0;\n",
    "    for (int i = 0;  i < events.size();  i++) {\n",
    "        for (int j = 0;  j < events[i].muons.size();  j++) {\n",
    "            pz[k] = events[i].muons[j].pt * sinh(events[i].muons[j].eta);\n",
    "            k++;\n",
    "        }\n",
    "    }\n",
    "}"
   ]
  },
  {
   "cell_type": "code",
   "execution_count": 24,
   "metadata": {},
   "outputs": [
    {
     "name": "stdout",
     "output_type": "stream",
     "text": [
      "(double) 0.11822100\n"
     ]
    }
   ],
   "source": [
    "gettimeofday(&startTime, 0);\n",
    "doit3(pz);\n",
    "gettimeofday(&endTime, 0);\n",
    "diff(endTime, startTime)"
   ]
  },
  {
   "cell_type": "markdown",
   "metadata": {},
   "source": [
    "0.1116 sec, 0.0918, 0.113, 0.1178, 0.118"
   ]
  },
  {
   "cell_type": "code",
   "execution_count": null,
   "metadata": {},
   "outputs": [],
   "source": []
  }
 ],
 "metadata": {
  "kernelspec": {
   "display_name": "ROOT C++",
   "language": "c++",
   "name": "root"
  },
  "language_info": {
   "codemirror_mode": "text/x-c++src",
   "file_extension": ".C",
   "mimetype": " text/x-c++src",
   "name": "c++"
  }
 },
 "nbformat": 4,
 "nbformat_minor": 2
}
